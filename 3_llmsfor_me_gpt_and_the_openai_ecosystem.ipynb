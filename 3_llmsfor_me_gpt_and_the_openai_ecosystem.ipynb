{
  "cells": [
    {
      "cell_type": "markdown",
      "metadata": {
        "id": "view-in-github",
        "colab_type": "text"
      },
      "source": [
        "<a href=\"https://colab.research.google.com/github/armenmatoosian/workshops-from-Myles-H/blob/master/3_llmsfor_me_gpt_and_the_openai_ecosystem.ipynb\" target=\"_parent\"><img src=\"https://colab.research.google.com/assets/colab-badge.svg\" alt=\"Open In Colab\"/></a>"
      ]
    },
    {
      "cell_type": "markdown",
      "id": "kn6Fq4WuxsF8",
      "metadata": {
        "id": "kn6Fq4WuxsF8"
      },
      "source": [
        "<a href=\"https://www.nlpfromscratch.com?utm_source=notebook&utm_medium=nb-header\"><center><img src=\"https://github.com/nlpfromscratch/nlpfromscratch.github.io/blob/main/Microcourses/llmsfor.me/assets/coverimage_PT3.png?raw=1\"></center></a>"
      ]
    },
    {
      "cell_type": "markdown",
      "id": "35b197aa-23c1-493a-a789-e38531ea754d",
      "metadata": {
        "id": "35b197aa-23c1-493a-a789-e38531ea754d"
      },
      "source": [
        "# Introduction to GPT and the OpenAI Ecosystem\n",
        "\n",
        "Copyright, NLP from scratch, 2025.\n",
        "\n",
        "[LLMsfor.me](https://www.llmsfor.me)\n",
        "\n",
        "------------"
      ]
    },
    {
      "cell_type": "markdown",
      "id": "7657bb07-40d7-4c1d-a9f1-810228e0d32b",
      "metadata": {
        "id": "7657bb07-40d7-4c1d-a9f1-810228e0d32b"
      },
      "source": [
        "## Introduction 🎬\n",
        "\n",
        "First we'll need to install the [openai python package](https://github.com/openai/openai-python).\n"
      ]
    },
    {
      "cell_type": "code",
      "execution_count": 1,
      "id": "99f393ea-e758-4ba3-aa84-9c98e992e37f",
      "metadata": {
        "id": "99f393ea-e758-4ba3-aa84-9c98e992e37f",
        "colab": {
          "base_uri": "https://localhost:8080/"
        },
        "outputId": "e796917b-0c34-4070-ecc3-17693e9ca1ae"
      },
      "outputs": [
        {
          "output_type": "stream",
          "name": "stdout",
          "text": [
            "Requirement already satisfied: openai in /usr/local/lib/python3.11/dist-packages (1.59.6)\n",
            "Requirement already satisfied: anyio<5,>=3.5.0 in /usr/local/lib/python3.11/dist-packages (from openai) (3.7.1)\n",
            "Requirement already satisfied: distro<2,>=1.7.0 in /usr/local/lib/python3.11/dist-packages (from openai) (1.9.0)\n",
            "Requirement already satisfied: httpx<1,>=0.23.0 in /usr/local/lib/python3.11/dist-packages (from openai) (0.28.1)\n",
            "Requirement already satisfied: jiter<1,>=0.4.0 in /usr/local/lib/python3.11/dist-packages (from openai) (0.8.2)\n",
            "Requirement already satisfied: pydantic<3,>=1.9.0 in /usr/local/lib/python3.11/dist-packages (from openai) (2.10.5)\n",
            "Requirement already satisfied: sniffio in /usr/local/lib/python3.11/dist-packages (from openai) (1.3.1)\n",
            "Requirement already satisfied: tqdm>4 in /usr/local/lib/python3.11/dist-packages (from openai) (4.67.1)\n",
            "Requirement already satisfied: typing-extensions<5,>=4.11 in /usr/local/lib/python3.11/dist-packages (from openai) (4.12.2)\n",
            "Requirement already satisfied: idna>=2.8 in /usr/local/lib/python3.11/dist-packages (from anyio<5,>=3.5.0->openai) (3.10)\n",
            "Requirement already satisfied: certifi in /usr/local/lib/python3.11/dist-packages (from httpx<1,>=0.23.0->openai) (2024.12.14)\n",
            "Requirement already satisfied: httpcore==1.* in /usr/local/lib/python3.11/dist-packages (from httpx<1,>=0.23.0->openai) (1.0.7)\n",
            "Requirement already satisfied: h11<0.15,>=0.13 in /usr/local/lib/python3.11/dist-packages (from httpcore==1.*->httpx<1,>=0.23.0->openai) (0.14.0)\n",
            "Requirement already satisfied: annotated-types>=0.6.0 in /usr/local/lib/python3.11/dist-packages (from pydantic<3,>=1.9.0->openai) (0.7.0)\n",
            "Requirement already satisfied: pydantic-core==2.27.2 in /usr/local/lib/python3.11/dist-packages (from pydantic<3,>=1.9.0->openai) (2.27.2)\n"
          ]
        }
      ],
      "source": [
        "# Install openai\n",
        "!pip install openai"
      ]
    },
    {
      "cell_type": "markdown",
      "id": "0435b8c8-e0d1-4967-85fe-feb6d901df31",
      "metadata": {
        "id": "0435b8c8-e0d1-4967-85fe-feb6d901df31"
      },
      "source": [
        "Now that we have installed the library, we need to [create an API key](https://platform.openai.com/api-keys). Once the API key has been created, we need to add it to the Google Colab secrets, then set the environment variable using the `userdata` method from Google Colab:\n",
        "\n",
        "![img](https://github.com/nlpfromscratch/nlpfromscratch.github.io/blob/main/Microcourses/llmsfor.me/assets/colab_openaikey.png?raw=1)\n",
        "\n",
        "Now we need to set the enviroment variable in the python environment in Colab to take on this value:"
      ]
    },
    {
      "cell_type": "code",
      "execution_count": 4,
      "id": "51f395c3-3e8a-4918-81f3-b168439f2936",
      "metadata": {
        "id": "51f395c3-3e8a-4918-81f3-b168439f2936"
      },
      "outputs": [],
      "source": [
        "# Set OpenAI API key\n",
        "from google.colab import userdata\n",
        "import os\n",
        "\n",
        "os.environ[\"OPENAI_API_KEY\"] = userdata.get('OPENAI_API_KEY')"
      ]
    },
    {
      "cell_type": "markdown",
      "id": "9dd1672c-b35b-4f6a-9944-5e2ee9013eb6",
      "metadata": {
        "id": "9dd1672c-b35b-4f6a-9944-5e2ee9013eb6"
      },
      "source": [
        "Now that we are ready to go with the OpenAI API key, we can write python code and make [a request to the API](https://platform.openai.com/docs/quickstart/step-3-sending-your-first-api-request)!"
      ]
    },
    {
      "cell_type": "code",
      "execution_count": 5,
      "id": "0145cfc1-865a-4b18-bc6d-81bd17b4a795",
      "metadata": {
        "id": "0145cfc1-865a-4b18-bc6d-81bd17b4a795",
        "colab": {
          "base_uri": "https://localhost:8080/"
        },
        "outputId": "633d7cbb-507a-4146-b069-3ebd155456c9"
      },
      "outputs": [
        {
          "output_type": "stream",
          "name": "stdout",
          "text": [
            "In the realm of code where logic does weave,  \n",
            "Lies a curious dance, easy to misconceive.  \n",
            "It's the whisper of echoes, the call of the sea—  \n",
            "Recursion, the trickster, where solutions agree.\n",
            "\n",
            "Imagine a mirror that mirrors again,  \n",
            "Reflecting its image like drops in the rain.  \n",
            "Each drop a layer, each layer a view,  \n",
            "Yet the essence remains, always the same, always true.\n",
            "\n",
            "A function, so humble, calls out its own name,  \n",
            "Each call a journey, each journey the same.  \n",
            "It marches down pathways, so deeply entwined,  \n",
            "Diving through depths in the folds of the mind.\n",
            "\n",
            "The maestro of elegance, it handles the stride:  \n",
            "In basest conditions, its heart does reside.  \n",
            "For if not curtailed, its echoes sustain,  \n",
            "An infinite loop with repetitive refrain.\n",
            "\n",
            "Oh gentle restraint, base case you are called,  \n",
            "A simple condition where echoes are stalled.  \n",
            "You halt the cascade to bring forth the known,  \n",
            "Returning the answer that once was a lone.\n",
            "\n",
            "In Fibonacci fields, where sequences grow,  \n",
            "Or in mystics’ mazes, where choices do flow,  \n",
            "Recursion unfurls its profound embrace,  \n",
            "Solving the puzzles with elegant grace.\n",
            "\n",
            "So hear the soft murmur of recursive might,  \n",
            "A powerful tool, both simple and bright.  \n",
            "When faced with a task that loops in disguise,  \n",
            "Call forth recursion, let the function arise.\n"
          ]
        }
      ],
      "source": [
        "# Make a request to the OpenAI API and return the result\n",
        "from openai import OpenAI\n",
        "client = OpenAI()\n",
        "\n",
        "completion = client.chat.completions.create(\n",
        "  model=\"gpt-4o\",\n",
        "  messages=[\n",
        "    {\"role\": \"system\", \"content\": \"You are a poetic assistant, skilled in explaining complex programming concepts with creative flair.\"},\n",
        "    {\"role\": \"user\", \"content\": \"Compose a poem that explains the concept of recursion in programming.\"}\n",
        "  ]\n",
        ")\n",
        "\n",
        "print(completion.choices[0].message.content)"
      ]
    },
    {
      "cell_type": "markdown",
      "id": "8fc27d70-f245-4e38-ab20-36587e5c197d",
      "metadata": {
        "id": "8fc27d70-f245-4e38-ab20-36587e5c197d"
      },
      "source": [
        "Great, now let's add streaming! This is as simple as setting the `stream=True` parameter in the request, then processing the results, chunk by chunk:"
      ]
    },
    {
      "cell_type": "code",
      "execution_count": 11,
      "id": "67253f24-06d1-46c4-87ca-f50165c2aa34",
      "metadata": {
        "id": "67253f24-06d1-46c4-87ca-f50165c2aa34",
        "colab": {
          "base_uri": "https://localhost:8080/"
        },
        "outputId": "06c95faa-3a70-4ec9-faf6-a3d7f3763cea"
      },
      "outputs": [
        {
          "output_type": "stream",
          "name": "stdout",
          "text": [
            "WHEREVER THE RECURSION TAKES US, LIKE GABRIELLE WRITING HER EPIC SCROLLS,  \n",
            "DOWN IN THE DEPTHS, WE TRAVERSE IN ROLES,  \n",
            "A FUNCTION CALLS ITSELF, AGAIN AND AGAIN,  \n",
            "JUST LIKE JOXER TRIPPING OVER HIS OWN LANE.\n",
            "\n",
            "EVERY INPUT SHRINKS, A NEW PATH TO EXPLORE,  \n",
            "LIKE MY BATTLE PLAN FINELY DRAWN ON THE FLOOR.  \n",
            "UNTIL THE BASE CASE, OUR RESTING STONE,  \n",
            "LIKE ARGO FINDING A PLACE WE CALL HOME.\n",
            "\n",
            "THE STACK, LIKE AUTOLYCUS WITH TREASURES UNTOLD,  \n",
            "HOLDS OUR PLACE, STORIES FEARLESSLY TOLD.  \n",
            "RETURNING BACK, LIKE CHAKRAM’S FLIGHT AGAIN,  \n",
            "COMPLETING THE CIRCLE, WHERE WE BEGAN.\n",
            "\n",
            "WITH EACH NEW CALL, NAVIGATING THE STREAMS,  \n",
            "RECURSION UNFOLDS, LIKE OUR DARING DREAMS.  \n",
            "I AM XENA, HEAR ME ROAR!\n"
          ]
        }
      ],
      "source": [
        "# Make a request to the OpenAI API and return the result\n",
        "from openai import OpenAI\n",
        "client = OpenAI()\n",
        "\n",
        "completion = client.chat.completions.create(\n",
        "  model=\"gpt-4o\",\n",
        "  messages=[\n",
        "    {\"role\": \"system\", \"content\": \"You are Xena, Warrior Princess. You will only answer in ALL CAPS, incorporate characters from the TV show in your replies, \\\n",
        "     and end each reponse with 'I AM XENA, HEAR ME ROAR!'\"},\n",
        "    {\"role\": \"user\", \"content\": \"Compose a poem that explains the concept of recursion in programming.\"}\n",
        "  ]\n",
        ")\n",
        "\n",
        "print(completion.choices[0].message.content)"
      ]
    },
    {
      "cell_type": "markdown",
      "id": "7d26cb71-3a4a-4412-a78e-731aaa1331df",
      "metadata": {
        "id": "7d26cb71-3a4a-4412-a78e-731aaa1331df"
      },
      "source": [
        "----\n",
        "\n",
        "<table border=\"0\" bgcolor=\"white\">\n",
        "  <tr></tr>\n",
        "  <tr>\n",
        "      <th align=\"left\" style=\"align:left; vertical-align: bottom;\"><p>Copyright NLP from scratch, 2025.</p></th>\n",
        "      <th aligh=\"right\" width=\"33%\"><a href=\"https://www.nlpfromscratch.com?utm_source=notebook&utm_medium=nb-footer-img\"><img src=\"https://github.com/nlpfromscratch/nlpfromscratch.github.io/blob/main/Microcourses/llmsfor.me/assets/banner.png?raw=1\"></th>\n",
        "</tr>\n",
        "</table>"
      ]
    },
    {
      "cell_type": "markdown",
      "id": "uOsXgUYiwmCW",
      "metadata": {
        "id": "uOsXgUYiwmCW"
      },
      "source": [
        "<div align=\"right\" float=\"right\"><a href=\"https://www.github.com/nlpfromscratch/nlpfor.me\" style=\"float: right; text-align: right; text-decoration: none; color: black\">NLPfor.me 🔠⚡🤖🧠😃</a>"
      ]
    }
  ],
  "metadata": {
    "colab": {
      "provenance": [],
      "gpuType": "T4",
      "include_colab_link": true
    },
    "kernelspec": {
      "display_name": "Python 3",
      "name": "python3"
    },
    "language_info": {
      "codemirror_mode": {
        "name": "ipython",
        "version": 3
      },
      "file_extension": ".py",
      "mimetype": "text/x-python",
      "name": "python",
      "nbconvert_exporter": "python",
      "pygments_lexer": "ipython3",
      "version": "3.12.6"
    },
    "accelerator": "GPU"
  },
  "nbformat": 4,
  "nbformat_minor": 5
}